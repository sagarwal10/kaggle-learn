{
  "nbformat": 4,
  "nbformat_minor": 0,
  "metadata": {
    "colab": {
      "name": "CS67_FINAL_PROJECT",
      "provenance": [],
      "include_colab_link": true
    },
    "kernelspec": {
      "name": "python3",
      "display_name": "Python 3"
    },
    "accelerator": "GPU",
    "widgets": {
      "application/vnd.jupyter.widget-state+json": {
        "9727e4dde4334d6c9dcea223b81c8b77": {
          "model_module": "@jupyter-widgets/controls",
          "model_name": "HBoxModel",
          "state": {
            "_view_name": "HBoxView",
            "_dom_classes": [],
            "_model_name": "HBoxModel",
            "_view_module": "@jupyter-widgets/controls",
            "_model_module_version": "1.5.0",
            "_view_count": null,
            "_view_module_version": "1.5.0",
            "box_style": "",
            "layout": "IPY_MODEL_981430482f054bbf8959eedc52f08aca",
            "_model_module": "@jupyter-widgets/controls",
            "children": [
              "IPY_MODEL_ff37ab896dce45f08eb2761b3c1a37ec",
              "IPY_MODEL_0fdcfc5223bd4363bd5235d2f8cee420"
            ]
          }
        },
        "981430482f054bbf8959eedc52f08aca": {
          "model_module": "@jupyter-widgets/base",
          "model_name": "LayoutModel",
          "state": {
            "_view_name": "LayoutView",
            "grid_template_rows": null,
            "right": null,
            "justify_content": null,
            "_view_module": "@jupyter-widgets/base",
            "overflow": null,
            "_model_module_version": "1.2.0",
            "_view_count": null,
            "flex_flow": null,
            "width": null,
            "min_width": null,
            "border": null,
            "align_items": null,
            "bottom": null,
            "_model_module": "@jupyter-widgets/base",
            "top": null,
            "grid_column": null,
            "overflow_y": null,
            "overflow_x": null,
            "grid_auto_flow": null,
            "grid_area": null,
            "grid_template_columns": null,
            "flex": null,
            "_model_name": "LayoutModel",
            "justify_items": null,
            "grid_row": null,
            "max_height": null,
            "align_content": null,
            "visibility": null,
            "align_self": null,
            "height": null,
            "min_height": null,
            "padding": null,
            "grid_auto_rows": null,
            "grid_gap": null,
            "max_width": null,
            "order": null,
            "_view_module_version": "1.2.0",
            "grid_template_areas": null,
            "object_position": null,
            "object_fit": null,
            "grid_auto_columns": null,
            "margin": null,
            "display": null,
            "left": null
          }
        },
        "ff37ab896dce45f08eb2761b3c1a37ec": {
          "model_module": "@jupyter-widgets/controls",
          "model_name": "FloatProgressModel",
          "state": {
            "_view_name": "ProgressView",
            "style": "IPY_MODEL_3217955d93b447efb8d98a50ff0a159d",
            "_dom_classes": [],
            "description": "100%",
            "_model_name": "FloatProgressModel",
            "bar_style": "success",
            "max": 1013951149,
            "_view_module": "@jupyter-widgets/controls",
            "_model_module_version": "1.5.0",
            "value": 1013951149,
            "_view_count": null,
            "_view_module_version": "1.5.0",
            "orientation": "horizontal",
            "min": 0,
            "description_tooltip": null,
            "_model_module": "@jupyter-widgets/controls",
            "layout": "IPY_MODEL_4a9fb44c56484d56b1e7143c6ea3861e"
          }
        },
        "0fdcfc5223bd4363bd5235d2f8cee420": {
          "model_module": "@jupyter-widgets/controls",
          "model_name": "HTMLModel",
          "state": {
            "_view_name": "HTMLView",
            "style": "IPY_MODEL_0c57cec0b6ca4b4eb129c879f41d87fc",
            "_dom_classes": [],
            "description": "",
            "_model_name": "HTMLModel",
            "placeholder": "​",
            "_view_module": "@jupyter-widgets/controls",
            "_model_module_version": "1.5.0",
            "value": " 1.01G/1.01G [00:34&lt;00:00, 29.0MB/s]",
            "_view_count": null,
            "_view_module_version": "1.5.0",
            "description_tooltip": null,
            "_model_module": "@jupyter-widgets/controls",
            "layout": "IPY_MODEL_60f5cdf1656549c1a65e2e9a05e0cfba"
          }
        },
        "3217955d93b447efb8d98a50ff0a159d": {
          "model_module": "@jupyter-widgets/controls",
          "model_name": "ProgressStyleModel",
          "state": {
            "_view_name": "StyleView",
            "_model_name": "ProgressStyleModel",
            "description_width": "initial",
            "_view_module": "@jupyter-widgets/base",
            "_model_module_version": "1.5.0",
            "_view_count": null,
            "_view_module_version": "1.2.0",
            "bar_color": null,
            "_model_module": "@jupyter-widgets/controls"
          }
        },
        "4a9fb44c56484d56b1e7143c6ea3861e": {
          "model_module": "@jupyter-widgets/base",
          "model_name": "LayoutModel",
          "state": {
            "_view_name": "LayoutView",
            "grid_template_rows": null,
            "right": null,
            "justify_content": null,
            "_view_module": "@jupyter-widgets/base",
            "overflow": null,
            "_model_module_version": "1.2.0",
            "_view_count": null,
            "flex_flow": null,
            "width": null,
            "min_width": null,
            "border": null,
            "align_items": null,
            "bottom": null,
            "_model_module": "@jupyter-widgets/base",
            "top": null,
            "grid_column": null,
            "overflow_y": null,
            "overflow_x": null,
            "grid_auto_flow": null,
            "grid_area": null,
            "grid_template_columns": null,
            "flex": null,
            "_model_name": "LayoutModel",
            "justify_items": null,
            "grid_row": null,
            "max_height": null,
            "align_content": null,
            "visibility": null,
            "align_self": null,
            "height": null,
            "min_height": null,
            "padding": null,
            "grid_auto_rows": null,
            "grid_gap": null,
            "max_width": null,
            "order": null,
            "_view_module_version": "1.2.0",
            "grid_template_areas": null,
            "object_position": null,
            "object_fit": null,
            "grid_auto_columns": null,
            "margin": null,
            "display": null,
            "left": null
          }
        },
        "0c57cec0b6ca4b4eb129c879f41d87fc": {
          "model_module": "@jupyter-widgets/controls",
          "model_name": "DescriptionStyleModel",
          "state": {
            "_view_name": "StyleView",
            "_model_name": "DescriptionStyleModel",
            "description_width": "",
            "_view_module": "@jupyter-widgets/base",
            "_model_module_version": "1.5.0",
            "_view_count": null,
            "_view_module_version": "1.2.0",
            "_model_module": "@jupyter-widgets/controls"
          }
        },
        "60f5cdf1656549c1a65e2e9a05e0cfba": {
          "model_module": "@jupyter-widgets/base",
          "model_name": "LayoutModel",
          "state": {
            "_view_name": "LayoutView",
            "grid_template_rows": null,
            "right": null,
            "justify_content": null,
            "_view_module": "@jupyter-widgets/base",
            "overflow": null,
            "_model_module_version": "1.2.0",
            "_view_count": null,
            "flex_flow": null,
            "width": null,
            "min_width": null,
            "border": null,
            "align_items": null,
            "bottom": null,
            "_model_module": "@jupyter-widgets/base",
            "top": null,
            "grid_column": null,
            "overflow_y": null,
            "overflow_x": null,
            "grid_auto_flow": null,
            "grid_area": null,
            "grid_template_columns": null,
            "flex": null,
            "_model_name": "LayoutModel",
            "justify_items": null,
            "grid_row": null,
            "max_height": null,
            "align_content": null,
            "visibility": null,
            "align_self": null,
            "height": null,
            "min_height": null,
            "padding": null,
            "grid_auto_rows": null,
            "grid_gap": null,
            "max_width": null,
            "order": null,
            "_view_module_version": "1.2.0",
            "grid_template_areas": null,
            "object_position": null,
            "object_fit": null,
            "grid_auto_columns": null,
            "margin": null,
            "display": null,
            "left": null
          }
        }
      }
    }
  },
  "cells": [
    {
      "cell_type": "markdown",
      "metadata": {
        "id": "view-in-github",
        "colab_type": "text"
      },
      "source": [
        "<a href=\"https://colab.research.google.com/github/sagarwal10/kaggle-learn/blob/master/CS67_FINAL_PROJECT.ipynb\" target=\"_parent\"><img src=\"https://colab.research.google.com/assets/colab-badge.svg\" alt=\"Open In Colab\"/></a>"
      ]
    },
    {
      "cell_type": "markdown",
      "metadata": {
        "id": "pzI-hdK9Vtlk"
      },
      "source": [
        "# CS67 Final Project  - Shalabh Agarwal\n",
        "\n",
        "\n",
        "---\n",
        "\n",
        "\n",
        "\n",
        "## Abstract:\n",
        "The world is filled with information and the rate at which it's produced only continues to grow. In this environment, a key challenge is learning to reliably distinguish between signal and noise to enhance decision making and understand identify trends. Companies, brands, and entertainers make product and service decisions on the basis of customer/audience feedback, but how does one do so effectively when the most direct channel for feedback - social media - is increasingly dominated by spam? To address this growing challenge, we will deploy several methods to identify spam using a public set of comments collected for spam research and determine which method most reliably identifies YouTube spam and leaves us with a data set of true commentary that can be used to conduct sentiment analysis from real fans and detractors. \n",
        "\n",
        "##Outline:\n",
        "\n",
        "**1. Introduction**:\n",
        "\n",
        "We are seeking to distinguish spam from genuine comments left on the videos of prominent entertainers. The source we are using, provided in Kaggle, includes five datasets composed by 1,956 real messages extracted from five videos that were among the 10 most viewed on the collection period. We seek to effectively identify spam among the comments.  \n",
        "\n",
        "**2. Exploratory data analysis:**\n",
        "\n",
        "Challenges we anticipate:\n",
        "-Abbreviations, capitalization, incorrect spelling, slang, and poor grammar \n",
        "-Habits of spam posters that may unknowingly be pre-processed out of the set (e.g., URLs in comments)  \n",
        "\n",
        "**3. Baseline Model**\n",
        "\n",
        "The methodology we plan to employ is outlined below. We will first attempt to run the methodology without pre-processing, to establish a baseline of results to compare against.   \n",
        "Using the text classification methodology outlined in Week 5 of the NLP course, we intend to examine the kaggle YouTube comments data set in order to identify and quantify spam and potentially to use the remaining non-spam comments to conduct a sentiment analysis. Methods include: \n",
        "*   Comparing 5 different methods of document representation - namely BOW, TF-IDF, FastText, S-BERT & UMAP for accuracy.\n",
        "\n",
        "\n",
        "**4. Model Improvement**\n",
        "\n",
        "Following the creation of the baseline to compare against, we will then pre-process the dataset using techniques including lemmatization, tokenization, stop-word removal, unusual character removal, URL tokenization replacement, lowercasing, expand contractions, white space removal. Following the pre-processing we will again deploy the 4 classification models and examine the improvement.\n",
        "\n",
        "The models will be broken out into training and test sets (80-20 distribution). Using K-Fold cross-validation, we will assess the accuracy of our models and compare which one or multiple ones are most effective for this data set.\n",
        "\n",
        "**5. Final results**: \n",
        "\n",
        "We will provide a presentation featuring a  thorough discussion of final quantitative metrics and qualitative visualizations. We will also discuss some of the biggest intermediate advancements that helped us improve the final model and share any insights we have derived from our results. \n",
        "   "
      ]
    },
    {
      "cell_type": "markdown",
      "metadata": {
        "id": "9SFC4jnbPnLz"
      },
      "source": [
        "### EDA\n"
      ]
    },
    {
      "cell_type": "markdown",
      "metadata": {
        "id": "0fdupj2sPrFh"
      },
      "source": [
        "The dataset contains of youtube comments from 5 different artists. We will collect them into a single Pandas Dataframe and examine the contents.\n"
      ]
    },
    {
      "cell_type": "code",
      "metadata": {
        "colab": {
          "base_uri": "https://localhost:8080/"
        },
        "id": "Cbke-YOMP8tv",
        "outputId": "bf06b02c-be9c-4999-eaee-0cdaef71aee8"
      },
      "source": [
        "import matplotlib.pyplot as plt # plotting\n",
        "import numpy as np # linear algebra\n",
        "import os # accessing directory structure\n",
        "import pandas as pd # data processing, CSV file I/O (e.g. pd.read_csv)\n",
        "import collections\n",
        "\n",
        "dfYTSpam=pd.read_csv(\"https://sagarwal10-test.s3-us-west-2.amazonaws.com/kaggle_youtube_spam_dataset.csv\", delimiter=\",\")\n",
        "\n",
        "# since we were appending multiple CSV's we want to reindex the Data\n",
        "# https://stackoverflow.com/questions/35528119/pandas-recalculate-index-after-a-concatenation\n",
        "# dfYTSpam.reset_index(drop=True, inplace=True)\n",
        "nRow, nCol = dfYTSpam.shape\n",
        "print(f'There are {nRow} rows and {nCol} columns')\n",
        "print(dfYTSpam.iloc[1586]['content'])"
      ],
      "execution_count": null,
      "outputs": [
        {
          "output_type": "stream",
          "text": [
            "There are 1956 rows and 5 columns\n",
            "Nice song﻿\n"
          ],
          "name": "stdout"
        }
      ]
    },
    {
      "cell_type": "markdown",
      "metadata": {
        "id": "ubplvyg8RWyh"
      },
      "source": [
        "There are 1956 entries of data with 5 columns. For our purposes the two most meaningful columns are content and class. The content denotes the actual textual comment made by the user. The class is a label - TRUE if the comment is SPAM and FALSE if its a valid comment (i.e. ham). In our example above we see that entry 7 is a valid comment whereas the others are simply people pointing to other websites and thus spam.\n"
      ]
    },
    {
      "cell_type": "markdown",
      "metadata": {
        "id": "-pSovN6DSjDL"
      },
      "source": [
        "Amount of SPAM vs HAM"
      ]
    },
    {
      "cell_type": "code",
      "metadata": {
        "colab": {
          "base_uri": "https://localhost:8080/"
        },
        "id": "w1XX1qQuS0dO",
        "outputId": "9bd7188f-86a5-4b03-f6f2-c69a07230ca1"
      },
      "source": [
        "\n",
        "spam_class=dfYTSpam['class'] == True\n",
        "ham_class=dfYTSpam['class'] == False\n",
        "print(\" Number of SPAM comments: \" + str(len(dfYTSpam[spam_class])))\n",
        "print(\" Number of HAM comments: \" + str(len(dfYTSpam[ham_class])))\n"
      ],
      "execution_count": null,
      "outputs": [
        {
          "output_type": "stream",
          "text": [
            " Number of SPAM comments: 1005\n",
            " Number of HAM comments: 951\n"
          ],
          "name": "stdout"
        }
      ]
    },
    {
      "cell_type": "markdown",
      "metadata": {
        "id": "YdUBTatuZqls"
      },
      "source": [
        "We see that the dataset is fairly evenly divided at 51.40% Spam. This means we should have decent training"
      ]
    },
    {
      "cell_type": "markdown",
      "metadata": {
        "id": "oda7udvXZ-pw"
      },
      "source": [
        "Now lets see if we should considers authors as part of our dataset. This will only matter if certain authors are more likely to be habitual spammers.\n"
      ]
    },
    {
      "cell_type": "code",
      "metadata": {
        "colab": {
          "base_uri": "https://localhost:8080/"
        },
        "id": "qXLXOszxXz4t",
        "outputId": "a8aa1a23-40e4-434e-8cb6-4c21b08846da"
      },
      "source": [
        "from collections import Counter\n",
        "\n",
        "Counter(dfYTSpam[spam_class].duplicated(subset='author'))"
      ],
      "execution_count": null,
      "outputs": [
        {
          "output_type": "execute_result",
          "data": {
            "text/plain": [
              "Counter({False: 871, True: 134})"
            ]
          },
          "metadata": {
            "tags": []
          },
          "execution_count": 3
        }
      ]
    },
    {
      "cell_type": "markdown",
      "metadata": {
        "id": "UftsCRnlaYPT"
      },
      "source": [
        "This tells us that roughly 14% of the spam posts have been authored at least twice by the same person. We might consider using this in our model as an improvement. In practise a social media company would most likely use this. \n",
        "Next we will try to consider how many of the spam emails have a URL of a website included in them.\n"
      ]
    },
    {
      "cell_type": "code",
      "metadata": {
        "colab": {
          "base_uri": "https://localhost:8080/"
        },
        "id": "VsaP5l0tZY19",
        "outputId": "4e4c2ab0-5ef8-43f2-90a1-75e37e284da5"
      },
      "source": [
        "import re\n",
        "# Regular expression from https://www.geeksforgeeks.org/python-check-url-string/\n",
        "regex_url = r\"(?i)\\b((?:https?://|www\\d{0,3}[.]|[a-z0-9.\\-]+[.][a-z]{2,4}/)(?:[^\\s()<>]+|\\(([^\\s()<>]+|(\\([^\\s()<>]+\\)))*\\))+(?:\\(([^\\s()<>]+|(\\([^\\s()<>]+\\)))*\\)|[^\\s`!()\\[\\]{};:'\\\".,<>?«»“”‘’]))\"\n",
        "print(\"Number of SPAM comments containing URLs = \" + str(len(dfYTSpam[spam_class][dfYTSpam[spam_class]['content'].str.contains(regex_url, regex=True)])))\n",
        "print(\"Number of HAM comments containing URLS = \" + str(len(dfYTSpam[ham_class][dfYTSpam[ham_class]['content'].str.contains(regex_url, regex=True)])))\n",
        "\n",
        "\n"
      ],
      "execution_count": null,
      "outputs": [
        {
          "output_type": "stream",
          "text": [
            "Number of SPAM comments containing URLs = 201\n",
            "Number of HAM comments containing URLS = 11\n"
          ],
          "name": "stdout"
        },
        {
          "output_type": "stream",
          "text": [
            "/usr/local/lib/python3.7/dist-packages/pandas/core/strings.py:2001: UserWarning: This pattern has match groups. To actually get the groups, use str.extract.\n",
            "  return func(self, *args, **kwargs)\n"
          ],
          "name": "stderr"
        }
      ]
    },
    {
      "cell_type": "code",
      "metadata": {
        "colab": {
          "base_uri": "https://localhost:8080/",
          "height": 91
        },
        "id": "830zDCYwDHao",
        "outputId": "38164b97-f047-4440-da4d-8edd661edd9f"
      },
      "source": [
        "regex_url = r\"(?i)\\b((?:https?://|www\\d{0,3}[.]|[a-z0-9.\\-]+[.][a-z]{2,4}/)(?:[^\\s()<>]+|\\(([^\\s()<>]+|(\\([^\\s()<>]+\\)))*\\))+(?:\\(([^\\s()<>]+|(\\([^\\s()<>]+\\)))*\\)|[^\\s`!()\\[\\]{};:'\\\".,<>?«»“”‘’]))\"\n",
        "dfYTSpam[spam_class][dfYTSpam[spam_class]['content'].str.contains(regex_url, regex=True)]\n",
        "# dfYTSpam.iloc[1586]['content']\n",
        "re.sub(regex_url, \"WebURL\", dfYTSpam.iloc[12]['content'], flags=re.MULTILINE)"
      ],
      "execution_count": null,
      "outputs": [
        {
          "output_type": "stream",
          "text": [
            "/usr/local/lib/python3.7/dist-packages/pandas/core/strings.py:2001: UserWarning: This pattern has match groups. To actually get the groups, use str.extract.\n",
            "  return func(self, *args, **kwargs)\n"
          ],
          "name": "stderr"
        },
        {
          "output_type": "execute_result",
          "data": {
            "application/vnd.google.colaboratory.intrinsic+json": {
              "type": "string"
            },
            "text/plain": [
              "'WebURL'"
            ]
          },
          "metadata": {
            "tags": []
          },
          "execution_count": 5
        }
      ]
    },
    {
      "cell_type": "markdown",
      "metadata": {
        "id": "CnZyCGtxqyBp"
      },
      "source": [
        ""
      ]
    },
    {
      "cell_type": "markdown",
      "metadata": {
        "id": "n0G4i7aCrKmh"
      },
      "source": [
        "We see that 20% of SPAM contains URL vs only a percent in non spam class. So this might be a good optimization to remove URLs and replace them with a word like \"URL\" since its unlikely that the tokenizer will be able to produce anything useful token-wis from a URL.\n"
      ]
    },
    {
      "cell_type": "markdown",
      "metadata": {
        "id": "w2mKLaILM-HO"
      },
      "source": [
        "### Initial Model Train & Test\n"
      ]
    },
    {
      "cell_type": "markdown",
      "metadata": {
        "id": "rrtLfrb5OUHX"
      },
      "source": [
        "We are going to split the data into training and test data by a ration of 80-20 percent.\n"
      ]
    },
    {
      "cell_type": "code",
      "metadata": {
        "id": "9Y4U0A3aNMBv"
      },
      "source": [
        "from sklearn.model_selection import train_test_split\n",
        "trainComments, testComments, trainLabel, testLabel = train_test_split( dfYTSpam['content'], dfYTSpam['class'], test_size=.2, random_state=0)"
      ],
      "execution_count": null,
      "outputs": []
    },
    {
      "cell_type": "code",
      "metadata": {
        "colab": {
          "base_uri": "https://localhost:8080/"
        },
        "id": "q5Hb9iNeOr49",
        "outputId": "7c49473a-c48a-42ff-d5e6-a09c898a6fe3"
      },
      "source": [
        "print(\"Number of samples of Training Data: \"+ str(len(trainComments)))\n",
        "print(\"Number of samples of Test Data: \" + str(len(testComments)))"
      ],
      "execution_count": null,
      "outputs": [
        {
          "output_type": "stream",
          "text": [
            "Number of samples of Training Data: 1564\n",
            "Number of samples of Test Data: 392\n"
          ],
          "name": "stdout"
        }
      ]
    },
    {
      "cell_type": "markdown",
      "metadata": {
        "id": "ER-yklN6nbXy"
      },
      "source": [
        "We see that indeed the split is 80-20. Next we create a bag of words model using the CountVectorizer. We don't specify the stopwords parameter as we want to get an idea of the performance without doing any preprocessing.\n",
        "\n",
        "\n"
      ]
    },
    {
      "cell_type": "code",
      "metadata": {
        "colab": {
          "base_uri": "https://localhost:8080/"
        },
        "id": "3YO1PiWin7tq",
        "outputId": "ff065626-eadd-4815-fe92-1524ecd6e991"
      },
      "source": [
        "from sklearn.feature_extraction.text import CountVectorizer\n",
        "CntVec = CountVectorizer(binary=False, min_df=0.0, max_df=1.0)   \n",
        "trainingVec = CntVec.fit_transform(trainComments)     \n",
        "testingVec = CntVec.transform(testComments)   \n",
        "testingVec.shape\n"
      ],
      "execution_count": null,
      "outputs": [
        {
          "output_type": "execute_result",
          "data": {
            "text/plain": [
              "(392, 3812)"
            ]
          },
          "metadata": {
            "tags": []
          },
          "execution_count": 8
        }
      ]
    },
    {
      "cell_type": "markdown",
      "metadata": {
        "id": "B3rq7LPA37vH"
      },
      "source": [
        "We see that we have transformed the data into a bag of words of dictionary size 3812."
      ]
    },
    {
      "cell_type": "code",
      "metadata": {
        "colab": {
          "base_uri": "https://localhost:8080/"
        },
        "id": "VRaVVJ6A6msr",
        "outputId": "f90b5c56-9d2d-4a47-82e6-d8aa775b6505"
      },
      "source": [
        "print(CntVec.get_feature_names()[0:10])\n",
        "print(CntVec.get_feature_names()[3800:3811])\n"
      ],
      "execution_count": null,
      "outputs": [
        {
          "output_type": "stream",
          "text": [
            "['00', '000', '002', '018', '02', '034', '04', '047000', '05', '053012']\n",
            "['zonepa', 'zxlightsoutxz', 'οh', 'الإعلانات', 'لل', '강남스타일', 'ｃｏｍ', 'ｅｂａｙ', 'ｈｔｔｐ', 'ｓｈｏｅｃｏｌｌｅｃｔｏｒ314', 'ｕｓｒ']\n"
          ],
          "name": "stdout"
        }
      ]
    },
    {
      "cell_type": "markdown",
      "metadata": {
        "id": "E-RDZpYpWajk"
      },
      "source": [
        "We notice that as a result of not preprocessing we have numbers and foreign characters that should definitely be removed. Next lets look at the distribution of length of words."
      ]
    },
    {
      "cell_type": "code",
      "metadata": {
        "colab": {
          "base_uri": "https://localhost:8080/",
          "height": 354
        },
        "id": "OZ-zMjotMfUs",
        "outputId": "e121d96c-4c2d-4c30-a572-62310ca697e0"
      },
      "source": [
        "import numpy as np\n",
        "import matplotlib.pyplot as plt \n",
        " \n",
        "cnt=Counter()\n",
        "for word in CntVec.get_feature_names():\n",
        "  cnt[len(word)] += 1\n",
        "fig = plt.figure(figsize = (10, 5))\n",
        "plt.bar(cnt.keys(), cnt.values(), width = 1)\n",
        "plt.xlim(0, 51)\n",
        "plt.xlabel('Length of token')\n",
        "plt.ylabel('Number of tokens')\n",
        "plt.show()\n"
      ],
      "execution_count": null,
      "outputs": [
        {
          "output_type": "display_data",
          "data": {
            "image/png": "[encoded data removed]",
            "text/plain": [
              "<Figure size 720x360 with 1 Axes>"
            ]
          },
          "metadata": {
            "tags": [],
            "needs_background": "light"
          }
        }
      ]
    },
    {
      "cell_type": "code",
      "metadata": {
        "colab": {
          "base_uri": "https://localhost:8080/"
        },
        "id": "o8UsCzBuSDhh",
        "outputId": "396f083f-f2ca-47e5-d96c-5f4a8841b4ac"
      },
      "source": [
        "for word in CntVec.get_feature_names():\n",
        "  if len(word) > 30:\n",
        "    print(word)"
      ],
      "execution_count": null,
      "outputs": [
        {
          "output_type": "stream",
          "text": [
            "1fhenqx1twqm153v2ptayiejnealahzvem\n",
            "2flist_of_most_viewed_youtube_videos\n",
            "5bgkg2iwphzohwaeuesrwnegqg_labco7rw9wfx8hao\n",
            "89iyec7nrwp5nytno5u7amhvmflutggl\n",
            "90000000000000000000000000000000000000000000000000000000000000000000000000000000000000000000000000000000000000000000000000000000000000000000000000000000000000000000000000000000000000000000000000000000000000000000000000000000000000000000000000000000000000000000000000000000000000000000000000000000000000000000000000000000000000000000000000000000000000000\n",
            "dislikesssssssssssssssssssssssssssssssss\n",
            "i9tixe8cnkcosoqkemgjlu5uwv6nsxso\n",
            "lneadw26bfst76vhkjl8pxaey6vmnlvmriudtsfk6vy\n",
            "lneadw26bftvzqt6juehasiefrjg1exi_dvqdnqvpho\n",
            "lneadw26bfunoarag71awgu6tjo6azdkfiun_tz1_hy\n",
            "lneadw26bfvkahxpkenm25fywkyxthsupri6juqsznu\n",
            "plzzzzzzzzzzzzzzzzzzzzzzzzzzzzzzz\n",
            "soooooooooooooooooooooooooooooooooooooooo\n",
            "soooooooooooooooooooooooooooooooooooooooooooooooooo\n",
            "wowwwwwwwwwwwwwwwwwwwwwwwwwwwwww\n"
          ],
          "name": "stdout"
        }
      ]
    },
    {
      "cell_type": "code",
      "metadata": {
        "colab": {
          "base_uri": "https://localhost:8080/",
          "height": 130
        },
        "id": "UNBQs_R8o57h",
        "outputId": "28bb82ce-4202-4d45-ccbd-64b5c9fcd7c4"
      },
      "source": [
        "filter=dfYTSpam['content'].str.find('soooooooooooooooooooooooooooooooooooooooo') > 0\n",
        "dfYTSpam[filter]"
      ],
      "execution_count": null,
      "outputs": [
        {
          "output_type": "execute_result",
          "data": {
            "text/html": [
              "<div>\n",
              "<style scoped>\n",
              "    .dataframe tbody tr th:only-of-type {\n",
              "        vertical-align: middle;\n",
              "    }\n",
              "\n",
              "    .dataframe tbody tr th {\n",
              "        vertical-align: top;\n",
              "    }\n",
              "\n",
              "    .dataframe thead th {\n",
              "        text-align: right;\n",
              "    }\n",
              "</style>\n",
              "<table border=\"1\" class=\"dataframe\">\n",
              "  <thead>\n",
              "    <tr style=\"text-align: right;\">\n",
              "      <th></th>\n",
              "      <th>comment_id</th>\n",
              "      <th>author</th>\n",
              "      <th>date</th>\n",
              "      <th>content</th>\n",
              "      <th>class</th>\n",
              "    </tr>\n",
              "  </thead>\n",
              "  <tbody>\n",
              "    <tr>\n",
              "      <th>695</th>\n",
              "      <td>z12sjp3zgtqnvlysj23zuxxaolrvd1oj504</td>\n",
              "      <td>Kacy Cluley</td>\n",
              "      <td>2015-06-05T18:59:52</td>\n",
              "      <td>This song means so much to me thank you  soooo...</td>\n",
              "      <td>False</td>\n",
              "    </tr>\n",
              "    <tr>\n",
              "      <th>807</th>\n",
              "      <td>z120t12qtr23etulr23rvzbyfyj1yfons</td>\n",
              "      <td>Mayen Dabuol</td>\n",
              "      <td>2015-05-22T01:59:18.387</td>\n",
              "      <td>Love this sooooooooooooooooooooooooooooooooooo...</td>\n",
              "      <td>False</td>\n",
              "    </tr>\n",
              "  </tbody>\n",
              "</table>\n",
              "</div>"
            ],
            "text/plain": [
              "                              comment_id  ...  class\n",
              "695  z12sjp3zgtqnvlysj23zuxxaolrvd1oj504  ...  False\n",
              "807    z120t12qtr23etulr23rvzbyfyj1yfons  ...  False\n",
              "\n",
              "[2 rows x 5 columns]"
            ]
          },
          "metadata": {
            "tags": []
          },
          "execution_count": 12
        }
      ]
    },
    {
      "cell_type": "markdown",
      "metadata": {
        "id": "W8--ARmuXF0T"
      },
      "source": [
        "We see from the bar graph that we have some really large words that are nonsensical and also a lot of repeated characters for regular English words to provide emphasis. Preprocessing can be used here as well.\n"
      ]
    },
    {
      "cell_type": "markdown",
      "metadata": {
        "id": "pciE_oJBvyuO"
      },
      "source": [
        "We will start off by using a Random Forest model to train and then come up with train and test accuracy scores\n"
      ]
    },
    {
      "cell_type": "code",
      "metadata": {
        "colab": {
          "base_uri": "https://localhost:8080/"
        },
        "id": "seC5-Y08vl67",
        "outputId": "7aa783e1-1f9c-4ed7-84dd-e0bc5fdf41b9"
      },
      "source": [
        "import sklearn\n",
        "from sklearn.ensemble import RandomForestClassifier\n",
        "model=RandomForestClassifier(n_estimators=100, random_state=0)\n",
        "model.fit(trainingVec, trainLabel)\n",
        "arrCVS = sklearn.model_selection.cross_val_score(model, trainingVec, trainLabel, cv=5);\n",
        "\n",
        "print(\"Training data score/accuracy is \"+str(round(model.score(trainingVec, trainLabel), 4)))\n",
        "print(\"Testing data score/accuracy is \"+str(round(model.score(testingVec, testLabel), 4)))\n",
        "print(\"5 fold cross validation accuracy is \"+str(round(np.mean(arrCVS), 4)))\n"
      ],
      "execution_count": null,
      "outputs": [
        {
          "output_type": "stream",
          "text": [
            "Training data score/accuracy is 1.0\n",
            "Testing data score/accuracy is 0.9515\n",
            "5 fold cross validation accuracy is 0.9584\n"
          ],
          "name": "stdout"
        }
      ]
    },
    {
      "cell_type": "markdown",
      "metadata": {
        "id": "sdsngGOZzsHX"
      },
      "source": [
        "We notice that even without preprocessing we get a fairly good accuracy of 95% with both the testing and the 5 fold cross validation test. Lets see if we can improve that with pre processing.\n"
      ]
    },
    {
      "cell_type": "markdown",
      "metadata": {
        "id": "yF2FOkSGavBI"
      },
      "source": [
        "### Preprocessing and retrain model \n",
        "\n",
        "\n"
      ]
    },
    {
      "cell_type": "markdown",
      "metadata": {
        "id": "FN4DnrOZa5HP"
      },
      "source": [
        "We will now attempt to preprocess the comments to remove special characters, abbreviations, expand contractions, remove stopwords and of course repetitions of characters and try to see how that affects our NB model and its accuracy. All preprocessing code here comes from CS67 Week 5 colab with modifications.\n"
      ]
    },
    {
      "cell_type": "code",
      "metadata": {
        "colab": {
          "base_uri": "https://localhost:8080/"
        },
        "id": "D1J9JHIobSmX",
        "outputId": "e3df18e5-cfd2-4ddd-f098-0f638d3c0279"
      },
      "source": [
        "#########################################################\n",
        "# Source: Text Analytics with Python by Dipanjan Sarkar\n",
        "#########################################################\n",
        "!pip -q install contractions > tmp.log\n",
        "import nltk, spacy, unicodedata, re, collections\n",
        "from contractions import contractions_dict\n",
        "from nltk.corpus import wordnet\n",
        "from nltk.tokenize.toktok import ToktokTokenizer\n",
        "from bs4 import BeautifulSoup\n",
        "#from textblob import Word\n",
        "nltk.download('wordnet')\n",
        "nltk.download('punkt')\n",
        "nltk.download(['stopwords'], quiet=True)\n",
        "LosStopWords = nltk.corpus.stopwords.words('english')\n",
        "nlp = spacy.load('en_core_web_sm', parse=True, tag=True, entity=True)\n",
        "tokenizer = ToktokTokenizer()\n",
        "# nlp_vec = spacy.load('en_vectors_web_lg', parse=True, tag=True, entity=True)\n",
        "\n",
        "def RemHTMLTags(txt):\n",
        "    soup = BeautifulSoup(txt, \"html.parser\")\n",
        "    if bool(soup.find()): \n",
        "      # [s.extract() for s in soup(['iframe', 'script'])]\n",
        "      return re.sub(r'[\\r|\\n|\\r\\n]+', '\\n', soup.get_text())\n",
        "    return txt\n",
        "\n",
        "def remove_repeated_characters(tokens):\n",
        "    repeat_pattern = re.compile(r'(\\w*)(\\w)\\2(\\w*)')\n",
        "    match_substitution = r'\\1\\2\\3'\n",
        "    def replace(old_word):\n",
        "        if wordnet.synsets(old_word):\n",
        "            return old_word\n",
        "        new_word = repeat_pattern.sub(match_substitution, old_word)\n",
        "        return replace(new_word) if new_word != old_word else new_word\n",
        "            \n",
        "    correct_tokens = [replace(word) for word in tokens]\n",
        "    return correct_tokens\n",
        "\n",
        "def RemDupChar(tokens):\n",
        "    repeat_pattern = re.compile(r'(\\w*)(\\w)\\2(\\w*)')\n",
        "    def replace(old_word):\n",
        "        if wordnet.synsets(old_word): return old_word\n",
        "        new_word = repeat_pattern.sub(r'\\1\\2\\3', old_word)\n",
        "        return replace(new_word) if new_word != old_word else new_word\n",
        "    return ''.join([replace(word) for word in tokens])\n",
        "\n",
        "def expand_contractions(text, contraction_mapping=contractions_dict):\n",
        "    \n",
        "    contractions_pattern = re.compile('({})'.format('|'.join(contraction_mapping.keys())), \n",
        "                                      flags=re.IGNORECASE|re.DOTALL)\n",
        "    def expand_match(contraction):\n",
        "        match = contraction.group(0)\n",
        "        first_char = match[0]\n",
        "        if first_char == None:\n",
        "          print(contraction)\n",
        "        expanded_contraction = contraction_mapping.get(match)\\\n",
        "                                if contraction_mapping.get(match)\\\n",
        "                                else contraction_mapping.get(match.lower())\n",
        "        if expanded_contraction == None:\n",
        "          # print(match)\n",
        "          # print(contraction_mapping.get(match))\n",
        "          # print(contraction_mapping.get(match.lower()))\n",
        "          # print(\"Expanded is false\")           \n",
        "          expanded_contraction=match           \n",
        "        expanded_contraction = first_char+expanded_contraction[1:]\n",
        "        return expanded_contraction\n",
        "        \n",
        "    expanded_text = contractions_pattern.sub(expand_match, text)\n",
        "    expanded_text = re.sub(\"'\", \"\", expanded_text)\n",
        "    return expanded_text\n",
        "def ExpContractions(txt, cmap=contractions_dict):\n",
        "    cpat = re.compile('({})'.format('|'.join(cmap.keys())), flags=re.IGNORECASE|re.DOTALL)\n",
        "    def expand_match(contraction):\n",
        "        return contraction.group(0)[0]+(cmap.get(match) if cmap.get(match) else cmap.get(match.lower()))[1:]\n",
        "    return re.sub(\"'\", \"\", cpat.sub(expand_match, txt))\n",
        "\n",
        "def Stem(txt): return ' '.join([nltk.porter.PorterStemmer().stem(word) for word in txt.split()])\n",
        "def lemmatize_text(txt): return ' '.join([word.lemma_ if word.lemma_ != '-PRON-' else word.text for word in nlp(txt)])\n",
        "def RemAccChar(txt): return unicodedata.normalize('NFKD', txt).encode('ascii', 'ignore').decode('utf-8', 'ignore')\n",
        "def RemSpecChar(txt, remove_digits=False): return re.sub(r'[^a-zA-Z0-9\\s]|\\[|\\]' if not remove_digits else r'[^a-zA-Z\\s]|\\[|\\]', '', txt)\n",
        "def ReplaceURL(txt):      #Replace actual URLs with the string likelyspamurl\n",
        "    return(re.sub(regex_url, \"likelyspamurl\", txt, flags=re.MULTILINE))\n",
        "def RemStopwords(txt, lower=False, stopwords=LosStopWords):\n",
        "    tokens = [token.strip() for token in tokenizer.tokenize(txt)]\n",
        "    return ' '.join([t for t in tokens if (t if lower else t.lower()) not in stopwords])\n",
        "\n",
        "def normalize_corpus(corpus, repURL=False, remDup=False, remHTML=False, expContr=False, remAccChar=False, lower=True, stem=False, \n",
        "                     lemma=False, remSpecChar=False, remDig=False, remStop=False, stopwords=LosStopWords):\n",
        "    normalized_corpus = []\n",
        "    # just to keep negation if any in bi-grams\n",
        "    if 'no' in stopwords: stopwords.remove('no')\n",
        "    if 'not' in stopwords: stopwords.remove('not')\n",
        "    for doc in corpus:   # normalize each document in the corpus\n",
        "        if remHTML: doc = RemHTMLTags(doc) # strip HTML\n",
        "        doc = doc.translate(doc.maketrans(\"\\n\\t\\r\", \"   \")) # remove extra newlines\n",
        "        if repURL: doc=ReplaceURL(doc)\n",
        "        if remAccChar: doc = RemAccChar(doc) # remove accented characters\n",
        "        if expContr: doc = expand_contractions(doc) # expand contractions\n",
        "        if remDup: \n",
        "            correct_tokens = remove_repeated_characters(nltk.word_tokenize(doc))\n",
        "            # ' '.join(correct_tokens)\n",
        "            # correct_tokens = RemDupChar(nltk.word_tokenize(doc))\n",
        "            doc=' '.join(correct_tokens)\n",
        "        if lemma: doc = lemmatize_text(doc)  # lemmatize text        \n",
        "        if stem and not lemma: doc = Stem(doc) # stem text\n",
        "        \n",
        "        if remSpecChar: # remove special characters and\\or digits    \n",
        "            # insert spaces between special characters to isolate them    \n",
        "            special_char_pattern = re.compile(r'([{.(-)!}])')\n",
        "            doc = special_char_pattern.sub(\" \\\\1 \", doc)\n",
        "            doc = RemSpecChar(doc, remove_digits=remDig)  \n",
        "\n",
        "        doc = re.sub(' +', ' ', doc) # remove extra whitespace\n",
        "        if lower: doc = doc.lower() # lowercase the text    \n",
        "        # remove stopwords\n",
        "        if remStop: doc = RemStopwords(doc, lower=lower, stopwords=LosStopWords)\n",
        "        doc = re.sub(' +', ' ', doc).strip() # remove extra whitespace\n",
        "        normalized_corpus.append(doc)\n",
        "    return normalized_corpus\n",
        "\n",
        "\n",
        "\n",
        "\n"
      ],
      "execution_count": null,
      "outputs": [
        {
          "output_type": "stream",
          "text": [
            "[nltk_data] Downloading package wordnet to /root/nltk_data...\n",
            "[nltk_data]   Unzipping corpora/wordnet.zip.\n",
            "[nltk_data] Downloading package punkt to /root/nltk_data...\n",
            "[nltk_data]   Unzipping tokenizers/punkt.zip.\n"
          ],
          "name": "stdout"
        }
      ]
    },
    {
      "cell_type": "code",
      "metadata": {
        "id": "jzay3Q4xo2kM"
      },
      "source": [
        "def preprocess_corpus_train_model_and_score(cleaned_content_colname, **kwargs):\n",
        "   dfYTSpam[cleaned_content_colname] = normalize_corpus(corpus=dfYTSpam.content, **kwargs)\n",
        "   trainComments, testComments, trainLabel, testLabel = train_test_split( dfYTSpam[cleaned_content_colname], dfYTSpam['class'], test_size=.2, random_state=0)\n",
        "   CntVec = CountVectorizer(binary=False, min_df=0.0, max_df=1.0)   \n",
        "   trainingVec = CntVec.fit_transform(trainComments) \n",
        "   testingVec = CntVec.transform(testComments)   \n",
        "   testingVec.shape\n",
        "   model=RandomForestClassifier(n_estimators=100, random_state=0)\n",
        "   model.fit(trainingVec, trainLabel)\n",
        "   arrCVS = sklearn.model_selection.cross_val_score(model, trainingVec, trainLabel, cv=5)\n",
        "   print(\"Accuracies - Training: \"+str(round(model.score(trainingVec, trainLabel), 4))  \\\n",
        "         + \"\\tTesting: \"+str(round(model.score(testingVec, testLabel),4)) + \\\n",
        "         \"\\t\\t5-fold KCV: \"+str(round(np.mean(arrCVS), 4)) + \\\n",
        "         \"\\tNum features: \"+str(len(CntVec.get_feature_names())))\n",
        "   return CntVec"
      ],
      "execution_count": null,
      "outputs": []
    },
    {
      "cell_type": "code",
      "metadata": {
        "id": "DM1eiIl34dQ3"
      },
      "source": [
        ""
      ],
      "execution_count": null,
      "outputs": []
    },
    {
      "cell_type": "markdown",
      "metadata": {
        "id": "tdGgpa35IvB1"
      },
      "source": [
        "The code above will preprocess the comments, train a NB model and then compute accuracy scores. It takes in keywords for different preprocessing options.\n",
        "We first call this new function with no options for preprocessing and we see that indeed the scores match exactly the numbers we got earlier also with no preprocessing"
      ]
    },
    {
      "cell_type": "code",
      "metadata": {
        "colab": {
          "base_uri": "https://localhost:8080/"
        },
        "id": "98sEgYLqrikC",
        "outputId": "73634b34-de61-4e29-aa81-fec99782c033"
      },
      "source": [
        "cntvec=preprocess_corpus_train_model_and_score('newcontent')"
      ],
      "execution_count": null,
      "outputs": [
        {
          "output_type": "stream",
          "text": [
            "Accuracies - Training: 1.0\tTesting: 0.9515\t\t5-fold KCV: 0.9584\tNum features: 3812\n"
          ],
          "name": "stdout"
        }
      ]
    },
    {
      "cell_type": "markdown",
      "metadata": {
        "id": "MV5RN0znQK2D"
      },
      "source": [
        "Next we will try our hypothesis to replace actual URLS in the comments with a word token (in this case 'likelyspamurl') to see if that helps the model since its assumed actual url's are unlikely to be of use\n"
      ]
    },
    {
      "cell_type": "code",
      "metadata": {
        "colab": {
          "base_uri": "https://localhost:8080/"
        },
        "id": "FIQpGvk6tx3G",
        "outputId": "7dc7af21-37ca-4a2a-dd67-ea3f83b78eb8"
      },
      "source": [
        "cntvec=preprocess_corpus_train_model_and_score('newcontent', repURL=True)"
      ],
      "execution_count": null,
      "outputs": [
        {
          "output_type": "stream",
          "text": [
            "Accuracies - Training: 1.0\tTesting: 0.9592\t\t5-fold KCV: 0.9533\tNum features: 3319\n"
          ],
          "name": "stdout"
        }
      ]
    },
    {
      "cell_type": "markdown",
      "metadata": {
        "id": "eeb5hwfzRG9I"
      },
      "source": [
        "We notice that replacing actual URLs with a single known keyword reduced the number of CountVectizer feature names from 3812 to 3319 - a reduction of 13%. However we see that our scores SURPRISINGLY went down. Its possible that the different URLs help our model detect spam better so we will no longer replace URLs.\n",
        "Next we will  test regular preprocessing features one by one adding them and seeing if the scores improve until we find the most optimal combination.\n",
        "\n",
        "We try the following in order: remove repeated letters in words e.g. sooooo (remDup), expanding abbreviations (expContr), remove accented and foreign characters (remAccChar), stem words (stem), removing stopwords (remStop), remove Special Characters (e.g. '\\' '@' characters in weburls (remSpecChar) and finally removing Digits (remDigit)\n"
      ]
    },
    {
      "cell_type": "code",
      "metadata": {
        "colab": {
          "base_uri": "https://localhost:8080/"
        },
        "id": "7EUUZ5Z20Diw",
        "outputId": "633deebc-07e0-47a8-c7d3-f8e2a59093e6"
      },
      "source": [
        "cntvec=preprocess_corpus_train_model_and_score('preprocessed_content', remDup=True)"
      ],
      "execution_count": null,
      "outputs": [
        {
          "output_type": "stream",
          "text": [
            "Accuracies - Training: 1.0\tTesting: 0.9515\t\t5-fold KCV: 0.9597\tNum features: 3769\n"
          ],
          "name": "stdout"
        }
      ]
    },
    {
      "cell_type": "code",
      "metadata": {
        "colab": {
          "base_uri": "https://localhost:8080/"
        },
        "id": "bUdVqEVL0YTa",
        "outputId": "92e4e594-8899-4bb6-f418-ad4245ccce7a"
      },
      "source": [
        "cntvec=preprocess_corpus_train_model_and_score('preprocessed_content', remDup=True, expContr=True)"
      ],
      "execution_count": null,
      "outputs": [
        {
          "output_type": "stream",
          "text": [
            "Accuracies - Training: 1.0\tTesting: 0.9541\t\t5-fold KCV: 0.9584\tNum features: 3766\n"
          ],
          "name": "stdout"
        }
      ]
    },
    {
      "cell_type": "code",
      "metadata": {
        "colab": {
          "base_uri": "https://localhost:8080/"
        },
        "id": "GfdCK6Gz0jdp",
        "outputId": "25c20a85-3558-4557-e095-a4a38bef7f8b"
      },
      "source": [
        "cntvec=preprocess_corpus_train_model_and_score('preprocessed_content', remDup=True, expContr=True, remAccChar=True)"
      ],
      "execution_count": null,
      "outputs": [
        {
          "output_type": "stream",
          "text": [
            "Accuracies - Training: 1.0\tTesting: 0.9541\t\t5-fold KCV: 0.9604\tNum features: 3743\n"
          ],
          "name": "stdout"
        }
      ]
    },
    {
      "cell_type": "code",
      "metadata": {
        "colab": {
          "base_uri": "https://localhost:8080/"
        },
        "id": "rSZ10_3t0ukw",
        "outputId": "65fa72ee-f621-4fb1-c1fd-932f0be0f692"
      },
      "source": [
        "cntvec_w_stop=preprocess_corpus_train_model_and_score('preprocessed_content', remDup=True, expContr=True, remAccChar=True, stem=True)"
      ],
      "execution_count": null,
      "outputs": [
        {
          "output_type": "stream",
          "text": [
            "Accuracies - Training: 1.0\tTesting: 0.9617\t\t5-fold KCV: 0.9629\tNum features: 3335\n"
          ],
          "name": "stdout"
        }
      ]
    },
    {
      "cell_type": "code",
      "metadata": {
        "colab": {
          "base_uri": "https://localhost:8080/"
        },
        "id": "3qjuylII36Hw",
        "outputId": "a3452481-7a5b-4fa1-9f7e-b476c950a61e"
      },
      "source": [
        "cntvec=preprocess_corpus_train_model_and_score('preprocessed_content', remDup=True, expContr=True, remAccChar=True, remStop=True)"
      ],
      "execution_count": null,
      "outputs": [
        {
          "output_type": "stream",
          "text": [
            "Accuracies - Training: 1.0\tTesting: 0.9413\t\t5-fold KCV: 0.9623\tNum features: 3653\n"
          ],
          "name": "stdout"
        }
      ]
    },
    {
      "cell_type": "code",
      "metadata": {
        "colab": {
          "base_uri": "https://localhost:8080/"
        },
        "id": "WBFE7hXJzmyh",
        "outputId": "5c562db9-9145-4bb7-ca9d-22a753c315b3"
      },
      "source": [
        "cntvec_wout_stop=preprocess_corpus_train_model_and_score('preprocessed_content', remDup=True, expContr=True, remAccChar=True, stem=True, remStop=True)"
      ],
      "execution_count": null,
      "outputs": [
        {
          "output_type": "stream",
          "text": [
            "Accuracies - Training: 1.0\tTesting: 0.9566\t\t5-fold KCV: 0.9661\tNum features: 3261\n"
          ],
          "name": "stdout"
        }
      ]
    },
    {
      "cell_type": "code",
      "metadata": {
        "colab": {
          "base_uri": "https://localhost:8080/"
        },
        "id": "Ro_3BMH-1AOa",
        "outputId": "fd76f9c3-e9ac-4859-d2ac-1c7e4bc0a5ae"
      },
      "source": [
        "cntvec=preprocess_corpus_train_model_and_score('preprocessed_content', remDup=True, expContr=True, remAccChar=True, stem=True, remSpecChar=True)"
      ],
      "execution_count": null,
      "outputs": [
        {
          "output_type": "stream",
          "text": [
            "Accuracies - Training: 1.0\tTesting: 0.9566\t\t5-fold KCV: 0.9604\tNum features: 3202\n"
          ],
          "name": "stdout"
        }
      ]
    },
    {
      "cell_type": "code",
      "metadata": {
        "colab": {
          "base_uri": "https://localhost:8080/"
        },
        "id": "XbvJaxwU1zHJ",
        "outputId": "85733306-52c7-4d3f-ad59-a0a7e85cccf9"
      },
      "source": [
        "cntvec=preprocess_corpus_train_model_and_score('preprocessed_content', remDup=True, expContr=True, remAccChar=True, stem=True, remSpecChar=True, remDig=True)"
      ],
      "execution_count": null,
      "outputs": [
        {
          "output_type": "stream",
          "text": [
            "Accuracies - Training: 1.0\tTesting: 0.9617\t\t5-fold KCV: 0.9591\tNum features: 2977\n"
          ],
          "name": "stdout"
        }
      ]
    },
    {
      "cell_type": "markdown",
      "metadata": {
        "id": "4sl04UtB0p_8"
      },
      "source": [
        "From this we notice the optimal accuracy is 0.9629 which is an improvement on the default of 0.9158 without any preprocessing. This optimal performance falls if we try to remove special characters (which affects URLs) but especially when we remove stopwords. So we will use the following dataset for our comparision for TFIDF. "
      ]
    },
    {
      "cell_type": "code",
      "metadata": {
        "colab": {
          "base_uri": "https://localhost:8080/"
        },
        "id": "KT8d9aA21M5z",
        "outputId": "d3ad4b64-217b-4795-a7cd-3f75a6623c90"
      },
      "source": [
        "cntvec=preprocess_corpus_train_model_and_score('preprocessed_content', remDup=True, expContr=True, remAccChar=True, stem=True)"
      ],
      "execution_count": null,
      "outputs": [
        {
          "output_type": "stream",
          "text": [
            "Accuracies - Training: 1.0\tTesting: 0.9617\t\t5-fold KCV: 0.9629\tNum features: 3335\n"
          ],
          "name": "stdout"
        }
      ]
    },
    {
      "cell_type": "markdown",
      "metadata": {
        "id": "fNtXZu-a-ZGo"
      },
      "source": [
        "In order to understand why removing stop words cause a reduction in accuracy we can analyze the set difference between the vocabulary with and without stopwords (as below) and we notice that stopwords include personal pronouns like \"me, myself\" and superlatives like \"so, too\" and so spammers might use such words more often and hence such words need to be part of the model training."
      ]
    },
    {
      "cell_type": "code",
      "metadata": {
        "colab": {
          "base_uri": "https://localhost:8080/"
        },
        "id": "JgnyEdu42_a1",
        "outputId": "a89ba4b7-b9f9-43bf-fb56-f28517168737"
      },
      "source": [
        "set(cntvec_w_stop.get_feature_names()).difference(set(cntvec_wout_stop.get_feature_names()))"
      ],
      "execution_count": null,
      "outputs": [
        {
          "output_type": "execute_result",
          "data": {
            "text/plain": [
              "{'about',\n",
              " 'after',\n",
              " 'again',\n",
              " 'against',\n",
              " 'ain',\n",
              " 'all',\n",
              " 'am',\n",
              " 'an',\n",
              " 'are',\n",
              " 'at',\n",
              " 'been',\n",
              " 'below',\n",
              " 'between',\n",
              " 'did',\n",
              " 'didn',\n",
              " 'do',\n",
              " 'doesn',\n",
              " 'don',\n",
              " 'down',\n",
              " 'few',\n",
              " 'had',\n",
              " 'have',\n",
              " 'haven',\n",
              " 'her',\n",
              " 'here',\n",
              " 'herself',\n",
              " 'him',\n",
              " 'how',\n",
              " 'if',\n",
              " 'into',\n",
              " 'is',\n",
              " 'isn',\n",
              " 'itself',\n",
              " 'just',\n",
              " 'ma',\n",
              " 'more',\n",
              " 'most',\n",
              " 'myself',\n",
              " 'now',\n",
              " 'off',\n",
              " 'or',\n",
              " 'our',\n",
              " 'out',\n",
              " 'over',\n",
              " 'own',\n",
              " 're',\n",
              " 'same',\n",
              " 'should',\n",
              " 'so',\n",
              " 'some',\n",
              " 'such',\n",
              " 'than',\n",
              " 'their',\n",
              " 'these',\n",
              " 'they',\n",
              " 'those',\n",
              " 'too',\n",
              " 'under',\n",
              " 'until',\n",
              " 've',\n",
              " 'wasn',\n",
              " 'we',\n",
              " 'were',\n",
              " 'weren',\n",
              " 'what',\n",
              " 'when',\n",
              " 'where',\n",
              " 'which',\n",
              " 'while',\n",
              " 'who',\n",
              " 'will',\n",
              " 'with',\n",
              " 'won',\n",
              " 'yourself'}"
            ]
          },
          "metadata": {
            "tags": []
          },
          "execution_count": 27
        }
      ]
    },
    {
      "cell_type": "code",
      "metadata": {
        "id": "UOYKnKVH-UiE"
      },
      "source": [
        "dfYTSpam['contentandauthor'] = dfYTSpam['content'] + ' ' + dfYTSpam['author']"
      ],
      "execution_count": null,
      "outputs": []
    },
    {
      "cell_type": "code",
      "metadata": {
        "colab": {
          "base_uri": "https://localhost:8080/"
        },
        "id": "XymnJ6Qt-mei",
        "outputId": "44046537-1893-4875-ccc1-40a65484a06c"
      },
      "source": [
        "cntvec=preprocess_corpus_train_model_and_score('prepandauthor')"
      ],
      "execution_count": null,
      "outputs": [
        {
          "output_type": "stream",
          "text": [
            "Accuracies - Training: 1.0\tTesting: 0.9515\t\t5-fold KCV: 0.9584\tNum features: 3812\n"
          ],
          "name": "stdout"
        }
      ]
    },
    {
      "cell_type": "code",
      "metadata": {
        "colab": {
          "base_uri": "https://localhost:8080/"
        },
        "id": "6lEH4O0lARh8",
        "outputId": "b21d0a8a-07cf-4f21-d66c-075a96e803e7"
      },
      "source": [
        "cntvec=preprocess_corpus_train_model_and_score('contentandauthor', remDup=True, expContr=True, remAccChar=True, stem=True)"
      ],
      "execution_count": null,
      "outputs": [
        {
          "output_type": "stream",
          "text": [
            "Accuracies - Training: 1.0\tTesting: 0.9617\t\t5-fold KCV: 0.9629\tNum features: 3335\n"
          ],
          "name": "stdout"
        }
      ]
    },
    {
      "cell_type": "code",
      "metadata": {
        "colab": {
          "base_uri": "https://localhost:8080/"
        },
        "id": "0Dg_PKY3BCVd",
        "outputId": "3f448eff-6080-4075-a0ba-04532c56f84e"
      },
      "source": [
        "cntvec=preprocess_corpus_train_model_and_score('contentandauthor')"
      ],
      "execution_count": null,
      "outputs": [
        {
          "output_type": "stream",
          "text": [
            "Accuracies - Training: 1.0\tTesting: 0.9515\t\t5-fold KCV: 0.9584\tNum features: 3812\n"
          ],
          "name": "stdout"
        }
      ]
    },
    {
      "cell_type": "markdown",
      "metadata": {
        "id": "3lWF1bpe0vnZ"
      },
      "source": [
        "### Comparision to the TF-IDF method of vectorization"
      ]
    },
    {
      "cell_type": "markdown",
      "metadata": {
        "id": "2So8mpcH06ZT"
      },
      "source": [
        "The TF-IDF is an alternative method to the Bag of Words (BOW) method of converting sentences to numeric equivalents so models can operate on them. Whereas the BOW is a binary method of whether a word is present in a sentence, the TF-IDF produces weights for words based on their importance both in the individual document but also across the whole corpus. "
      ]
    },
    {
      "cell_type": "code",
      "metadata": {
        "id": "eB_1V33p1USG"
      },
      "source": [
        "from sklearn.feature_extraction.text import TfidfVectorizer\n",
        "\n",
        "def train_tfidf_and_score(text_colname):\n",
        "  TVec = TfidfVectorizer(use_idf=True, min_df=0.0, max_df=1.0)\n",
        "  TfidfVec=TVec.fit_transform(dfYTSpam[text_colname])\n",
        "  trainVec, testVec, trainLabel, testLabel = train_test_split(TfidfVec, dfYTSpam['class'], test_size=.2, random_state=0)\n",
        "  model=RandomForestClassifier(n_estimators=100, random_state=0)\n",
        "  model.fit(trainVec, trainLabel)\n",
        "  arrCVS = sklearn.model_selection.cross_val_score(model, trainVec, trainLabel, cv=5)\n",
        "  print(\"Accuracies - Training: \"+str(round(model.score(trainVec, trainLabel), 4))  \\\n",
        "         + \"\\tTesting: \"+str(round(model.score(testVec, testLabel),4)) + \\\n",
        "         \"\\t\\t5-fold KCV: \"+str(round(np.mean(arrCVS), 4)) + \\\n",
        "         \"\\tNum features: \"+str(len(TVec.vocabulary_)))"
      ],
      "execution_count": null,
      "outputs": []
    },
    {
      "cell_type": "markdown",
      "metadata": {
        "id": "I9749A_93hO9"
      },
      "source": [
        "We will first try TF-IDF on the comments as part of the original dataset and then compare them to the preprocessed version of the comments. We will use the NB Bayes model once again."
      ]
    },
    {
      "cell_type": "code",
      "metadata": {
        "colab": {
          "base_uri": "https://localhost:8080/"
        },
        "id": "WMyhMtYH2q0p",
        "outputId": "5d622877-8fcf-4378-ccaa-48bf2c7df690"
      },
      "source": [
        "train_tfidf_and_score('content')"
      ],
      "execution_count": null,
      "outputs": [
        {
          "output_type": "stream",
          "text": [
            "Accuracies - Training: 1.0\tTesting: 0.9515\t\t5-fold KCV: 0.954\tNum features: 4454\n"
          ],
          "name": "stdout"
        }
      ]
    },
    {
      "cell_type": "code",
      "metadata": {
        "colab": {
          "base_uri": "https://localhost:8080/"
        },
        "id": "D_oULlyZHUxZ",
        "outputId": "64198580-07fa-4db8-95d3-3e995313b9b6"
      },
      "source": [
        "train_tfidf_and_score('preprocessed_content')"
      ],
      "execution_count": null,
      "outputs": [
        {
          "output_type": "stream",
          "text": [
            "Accuracies - Training: 1.0\tTesting: 0.9617\t\t5-fold KCV: 0.9578\tNum features: 3872\n"
          ],
          "name": "stdout"
        }
      ]
    },
    {
      "cell_type": "markdown",
      "metadata": {
        "id": "5bIpxpB13p86"
      },
      "source": [
        "We see that the TF-IDF model produced quite an improvement over the BOW models on the unpreprocessed comments. The BOW model had a score of 0.9158\n",
        "and 0.9188 on test & 5 fold KCV respectively and we have improved using TFIDF by the same numbers being 0.9311 & 0.9239.\n",
        "However as seen TFIDF on preprocessed data doesn't do as well as it does on the original data set. "
      ]
    },
    {
      "cell_type": "markdown",
      "metadata": {
        "id": "CxMtIvbA5v4h"
      },
      "source": [
        "### Comparison to FastText"
      ]
    },
    {
      "cell_type": "markdown",
      "metadata": {
        "id": "XXDRoE0a54af"
      },
      "source": [
        "FastText is a word to vector that has been provided by Facebook and is a very popular and modern vectorization. We will compare it to BOW and TF-IDF. The Code is adapted from:\n",
        "https://github.com/dipanjanS/text-analytics-with-python/blob/master/New-Second-Edition\n",
        " "
      ]
    },
    {
      "cell_type": "code",
      "metadata": {
        "colab": {
          "base_uri": "https://localhost:8080/"
        },
        "id": "XVWtecf2aqZi",
        "outputId": "a5510a54-6af7-4941-eaa4-f609358ec54f"
      },
      "source": [
        "!pip install text-normalizer\n",
        "import gensim\n",
        "from gensim.models.fasttext import FastText\n",
        "from nltk.tokenize.toktok import ToktokTokenizer \n",
        "\n",
        "tn=ToktokTokenizer()\n",
        "\n",
        "def document_vectorizer(corpus, model, num_features):\n",
        "    vocabulary = set(model.wv.index2word)\n",
        "    \n",
        "    def average_word_vectors(words, model, vocabulary, num_features):\n",
        "        feature_vector = np.zeros((num_features,), dtype=\"float64\")\n",
        "        nwords = 0.\n",
        "        \n",
        "        for word in words:\n",
        "            if word in vocabulary: \n",
        "                nwords = nwords + 1.\n",
        "                feature_vector = np.add(feature_vector, model.wv[word])\n",
        "        if nwords:\n",
        "            feature_vector = np.divide(feature_vector, nwords)\n",
        "\n",
        "        return feature_vector\n",
        "\n",
        "    features = [average_word_vectors(tokenized_sentence, model, vocabulary, num_features)\n",
        "                    for tokenized_sentence in corpus]\n",
        "    return np.array(features)"
      ],
      "execution_count": null,
      "outputs": [
        {
          "output_type": "stream",
          "text": [
            "Collecting text-normalizer\n",
            "  Downloading https://files.pythonhosted.org/packages/b7/98/b49628d90d5793e7369e25d6a84f9ca4a1fc6472d848d15daa9bf9129ad7/text-normalizer-0.1.3.tar.gz\n",
            "Requirement already satisfied: pandas in /usr/local/lib/python3.7/dist-packages (from text-normalizer) (1.1.5)\n",
            "Requirement already satisfied: python-dateutil>=2.7.3 in /usr/local/lib/python3.7/dist-packages (from pandas->text-normalizer) (2.8.1)\n",
            "Requirement already satisfied: pytz>=2017.2 in /usr/local/lib/python3.7/dist-packages (from pandas->text-normalizer) (2018.9)\n",
            "Requirement already satisfied: numpy>=1.15.4 in /usr/local/lib/python3.7/dist-packages (from pandas->text-normalizer) (1.19.5)\n",
            "Requirement already satisfied: six>=1.5 in /usr/local/lib/python3.7/dist-packages (from python-dateutil>=2.7.3->pandas->text-normalizer) (1.15.0)\n",
            "Building wheels for collected packages: text-normalizer\n",
            "  Building wheel for text-normalizer (setup.py) ... \u001b[?25l\u001b[?25hdone\n",
            "  Created wheel for text-normalizer: filename=text_normalizer-0.1.3-cp37-cp37m-linux_x86_64.whl size=168450 sha256=f553acd4313023879dd527a38d9b810b35cc41f3b1c2b566af7f7dcd28aec213\n",
            "  Stored in directory: /root/.cache/pip/wheels/cb/15/93/c3a18073b2bb6c6476fc1c65a9870bb0e10d939c324b40a5cc\n",
            "Successfully built text-normalizer\n",
            "Installing collected packages: text-normalizer\n",
            "Successfully installed text-normalizer-0.1.3\n"
          ],
          "name": "stdout"
        }
      ]
    },
    {
      "cell_type": "code",
      "metadata": {
        "id": "iOkHvloCgyaK"
      },
      "source": [
        "def fasttext_vectorize_train_score(column_name):\n",
        "\n",
        "  train_corpus, test_corpus, train_label, test_label =\\\n",
        "                train_test_split(np.array(dfYTSpam['content']), np.array(dfYTSpam['class']),\n",
        "                                                           test_size=0.2, random_state=0)\n",
        "  tokenized_train = [tn.tokenize(text)\n",
        "                   for text in train_corpus]\n",
        "  tokenized_test = [tn.tokenize(text)\n",
        "                   for text in test_corpus]\n",
        "  ft_num_features = 1000\n",
        "  # sg decides whether to use the skip-gram model (1) or CBOW (0)\n",
        "  ft_model = FastText(tokenized_train, size=ft_num_features, window=100, \n",
        "                    min_count=2, sample=1e-3, sg=1, iter=5, workers=10)\n",
        "  # generate averaged word vector features from word2vec model\n",
        "  avg_ft_train_features = document_vectorizer(corpus=tokenized_train, model=ft_model,\n",
        "                                                     num_features=ft_num_features)\n",
        "  avg_ft_test_features = document_vectorizer(corpus=tokenized_test, model=ft_model,\n",
        "                                                    num_features=ft_num_features)\n",
        "  model=RandomForestClassifier(n_estimators=100, random_state=0)\n",
        "  model.fit(avg_ft_train_features, train_label)\n",
        "  arrCVS = sklearn.model_selection.cross_val_score(model, avg_ft_train_features, train_label, cv=5)\n",
        "  print(\"Accuracies - Training: \"+str(round(model.score(avg_ft_train_features, train_label), 4))  \\\n",
        "         + \"\\tTesting: \"+str(round(model.score(avg_ft_test_features, test_label),4)) + \\\n",
        "         \"\\t\\t5-fold KCV: \"+str(round(np.mean(arrCVS), 4)))"
      ],
      "execution_count": null,
      "outputs": []
    },
    {
      "cell_type": "code",
      "metadata": {
        "colab": {
          "base_uri": "https://localhost:8080/"
        },
        "id": "NPWomdxE68yu",
        "outputId": "5c408174-5b93-4939-addd-a52f79892fee"
      },
      "source": [
        "fasttext_vectorize_train_score('content')"
      ],
      "execution_count": null,
      "outputs": [
        {
          "output_type": "stream",
          "text": [
            "Accuracies - Training: 0.9815\tTesting: 0.8724\t\t5-fold KCV: 0.8523\n"
          ],
          "name": "stdout"
        }
      ]
    },
    {
      "cell_type": "code",
      "metadata": {
        "colab": {
          "base_uri": "https://localhost:8080/"
        },
        "id": "XLITMt4f94yA",
        "outputId": "3154c5c4-9654-4871-81f7-537440e2edfc"
      },
      "source": [
        "fasttext_vectorize_train_score('preprocessed_content')"
      ],
      "execution_count": null,
      "outputs": [
        {
          "output_type": "stream",
          "text": [
            "Accuracies - Training: 0.9815\tTesting: 0.8622\t\t5-fold KCV: 0.8529\n"
          ],
          "name": "stdout"
        }
      ]
    },
    {
      "cell_type": "markdown",
      "metadata": {
        "id": "wYsHuLgf5Leq"
      },
      "source": [
        "### Comparison to Sentence BERT"
      ]
    },
    {
      "cell_type": "markdown",
      "metadata": {
        "id": "pfC-0pbn5P4z"
      },
      "source": [
        "S-BERT is a brand new exciting pretrained model that also takes position between words into account. Lets see how to compares to all our other models."
      ]
    },
    {
      "cell_type": "code",
      "metadata": {
        "colab": {
          "base_uri": "https://localhost:8080/",
          "height": 201,
          "referenced_widgets": [
            "9727e4dde4334d6c9dcea223b81c8b77",
            "981430482f054bbf8959eedc52f08aca",
            "ff37ab896dce45f08eb2761b3c1a37ec",
            "0fdcfc5223bd4363bd5235d2f8cee420",
            "3217955d93b447efb8d98a50ff0a159d",
            "4a9fb44c56484d56b1e7143c6ea3861e",
            "0c57cec0b6ca4b4eb129c879f41d87fc",
            "60f5cdf1656549c1a65e2e9a05e0cfba"
          ]
        },
        "id": "It2uDqGM5bd7",
        "outputId": "84a7a08e-27cf-4ff3-a2e1-39968f6aed6e"
      },
      "source": [
        "!pip -q install -U sentence-transformers   # https://github.com/UKPLab/sentence-transformers\n",
        "from sentence_transformers import SentenceTransformer\n",
        "mSBERT = SentenceTransformer('xlm-r-100langs-bert-base-nli-stsb-mean-tokens')"
      ],
      "execution_count": null,
      "outputs": [
        {
          "output_type": "stream",
          "text": [
            "\u001b[K     |████████████████████████████████| 81kB 7.9MB/s \n",
            "\u001b[K     |████████████████████████████████| 2.0MB 27.8MB/s \n",
            "\u001b[K     |████████████████████████████████| 1.2MB 48.4MB/s \n",
            "\u001b[K     |████████████████████████████████| 890kB 51.4MB/s \n",
            "\u001b[K     |████████████████████████████████| 3.2MB 38.7MB/s \n",
            "\u001b[?25h  Building wheel for sentence-transformers (setup.py) ... \u001b[?25l\u001b[?25hdone\n",
            "  Building wheel for sacremoses (setup.py) ... \u001b[?25l\u001b[?25hdone\n"
          ],
          "name": "stdout"
        },
        {
          "output_type": "display_data",
          "data": {
            "application/vnd.jupyter.widget-view+json": {
              "model_id": "9727e4dde4334d6c9dcea223b81c8b77",
              "version_minor": 0,
              "version_major": 2
            },
            "text/plain": [
              "HBox(children=(FloatProgress(value=0.0, max=1013951149.0), HTML(value='')))"
            ]
          },
          "metadata": {
            "tags": []
          }
        },
        {
          "output_type": "stream",
          "text": [
            "\n"
          ],
          "name": "stdout"
        }
      ]
    },
    {
      "cell_type": "code",
      "metadata": {
        "id": "0K8fR0vG69xo"
      },
      "source": [
        "def embed_train_and_score(column_name):\n",
        "  sentence_embeddings = mSBERT.encode(dfYTSpam[column_name].tolist())\n",
        "  trainVec, testVec, trainLabel, testLabel = train_test_split(sentence_embeddings, dfYTSpam['class'], test_size=.2, random_state=0)\n",
        "  model=RandomForestClassifier(n_estimators=100, random_state=0)\n",
        "  model.fit(trainVec, trainLabel)\n",
        "  arrCVS = sklearn.model_selection.cross_val_score(model, trainVec, trainLabel, cv=5)\n",
        "  print(\"Accuracies - Training: \"+str(round(model.score(trainVec, trainLabel), 4))  \\\n",
        "         + \"\\tTesting: \"+str(round(model.score(testVec, testLabel),4)) + \\\n",
        "         \"\\t\\t5-fold KCV: \"+str(round(np.mean(arrCVS), 4)))\n"
      ],
      "execution_count": null,
      "outputs": []
    },
    {
      "cell_type": "code",
      "metadata": {
        "colab": {
          "base_uri": "https://localhost:8080/"
        },
        "id": "nx-zDpax763p",
        "outputId": "6a04c90f-5201-4a2a-a802-40cf54661849"
      },
      "source": [
        "embed_train_and_score('content')"
      ],
      "execution_count": null,
      "outputs": [
        {
          "output_type": "stream",
          "text": [
            "Accuracies - Training: 1.0\tTesting: 0.9388\t\t5-fold KCV: 0.9354\n"
          ],
          "name": "stdout"
        }
      ]
    },
    {
      "cell_type": "code",
      "metadata": {
        "colab": {
          "base_uri": "https://localhost:8080/"
        },
        "id": "28G-rS4P8Hhd",
        "outputId": "6aa43c36-39e6-4bd7-a9b5-05378d326d96"
      },
      "source": [
        "embed_train_and_score('preprocessed_content')"
      ],
      "execution_count": null,
      "outputs": [
        {
          "output_type": "stream",
          "text": [
            "Accuracies - Training: 1.0\tTesting: 0.926\t\t5-fold KCV: 0.9342\n"
          ],
          "name": "stdout"
        }
      ]
    },
    {
      "cell_type": "markdown",
      "metadata": {
        "id": "wKvwrn3BuaHI"
      },
      "source": [
        "UMAP\n"
      ]
    },
    {
      "cell_type": "code",
      "metadata": {
        "id": "9zdSVDNmudT6"
      },
      "source": [
        "from sklearn.feature_extraction.text import CountVectorizer\n",
        "CntVec = CountVectorizer(binary=False, min_df=0.0, max_df=1.0)   \n",
        "totalVec = CntVec.fit_transform(dfYTSpam['preprocessed_content']) \n",
        "sentence_embeddings = mSBERT.encode(dfYTSpam['preprocessed_content'])\n",
        "dfTotalVec=pd.DataFrame(sentence_embeddings)\n"
      ],
      "execution_count": null,
      "outputs": []
    },
    {
      "cell_type": "code",
      "metadata": {
        "colab": {
          "base_uri": "https://localhost:8080/",
          "height": 641
        },
        "id": "2OcDoEyyGmd4",
        "outputId": "4ea8de58-31ac-4bbf-bc91-c54c21cabfab"
      },
      "source": [
        "import umap\n",
        "\n",
        "colors = ['r' if flag==True else 'b' for flag in dfYTSpam['class']]\n",
        "mUMAP = umap.UMAP(n_neighbors=10, min_dist=0.1, metric='correlation').fit_transform(dfTotalVec)\n",
        "dfUMAP = pd.DataFrame(mUMAP, index=dfTotalVec.index, columns=['Comp1','Comp2'])\n",
        "plt.rcParams['figure.figsize'] = [10,10]\n",
        "dfUMAP.plot.scatter('Comp1','Comp2', color=colors, grid=True, title='UMAP (2D representation) of Spam Vectors');"
      ],
      "execution_count": null,
      "outputs": [
        {
          "output_type": "display_data",
          "data": {
            "image/png": "[encoded data removed]",
            "text/plain": [
              "<Figure size 720x720 with 1 Axes>"
            ]
          },
          "metadata": {
            "tags": [],
            "needs_background": "light"
          }
        }
      ]
    },
    {
      "cell_type": "code",
      "metadata": {
        "id": "9G7sWAd6vS6N",
        "colab": {
          "base_uri": "https://localhost:8080/",
          "height": 433
        },
        "outputId": "76790312-e2ed-45af-be17-af5e5216168a"
      },
      "source": [
        "dfUMAP"
      ],
      "execution_count": null,
      "outputs": [
        {
          "output_type": "execute_result",
          "data": {
            "text/html": [
              "<div>\n",
              "<style scoped>\n",
              "    .dataframe tbody tr th:only-of-type {\n",
              "        vertical-align: middle;\n",
              "    }\n",
              "\n",
              "    .dataframe tbody tr th {\n",
              "        vertical-align: top;\n",
              "    }\n",
              "\n",
              "    .dataframe thead th {\n",
              "        text-align: right;\n",
              "    }\n",
              "</style>\n",
              "<table border=\"1\" class=\"dataframe\">\n",
              "  <thead>\n",
              "    <tr style=\"text-align: right;\">\n",
              "      <th></th>\n",
              "      <th>Comp1</th>\n",
              "      <th>Comp2</th>\n",
              "    </tr>\n",
              "  </thead>\n",
              "  <tbody>\n",
              "    <tr>\n",
              "      <th>0</th>\n",
              "      <td>5.668831</td>\n",
              "      <td>9.738836</td>\n",
              "    </tr>\n",
              "    <tr>\n",
              "      <th>1</th>\n",
              "      <td>8.385058</td>\n",
              "      <td>8.309694</td>\n",
              "    </tr>\n",
              "    <tr>\n",
              "      <th>2</th>\n",
              "      <td>5.144416</td>\n",
              "      <td>8.660207</td>\n",
              "    </tr>\n",
              "    <tr>\n",
              "      <th>3</th>\n",
              "      <td>6.928557</td>\n",
              "      <td>7.466080</td>\n",
              "    </tr>\n",
              "    <tr>\n",
              "      <th>4</th>\n",
              "      <td>4.578308</td>\n",
              "      <td>8.440116</td>\n",
              "    </tr>\n",
              "    <tr>\n",
              "      <th>...</th>\n",
              "      <td>...</td>\n",
              "      <td>...</td>\n",
              "    </tr>\n",
              "    <tr>\n",
              "      <th>1951</th>\n",
              "      <td>9.288612</td>\n",
              "      <td>11.285175</td>\n",
              "    </tr>\n",
              "    <tr>\n",
              "      <th>1952</th>\n",
              "      <td>9.361617</td>\n",
              "      <td>11.130410</td>\n",
              "    </tr>\n",
              "    <tr>\n",
              "      <th>1953</th>\n",
              "      <td>14.931724</td>\n",
              "      <td>11.733963</td>\n",
              "    </tr>\n",
              "    <tr>\n",
              "      <th>1954</th>\n",
              "      <td>8.369987</td>\n",
              "      <td>12.306924</td>\n",
              "    </tr>\n",
              "    <tr>\n",
              "      <th>1955</th>\n",
              "      <td>8.346757</td>\n",
              "      <td>12.337290</td>\n",
              "    </tr>\n",
              "  </tbody>\n",
              "</table>\n",
              "<p>1956 rows × 2 columns</p>\n",
              "</div>"
            ],
            "text/plain": [
              "          Comp1      Comp2\n",
              "0      5.668831   9.738836\n",
              "1      8.385058   8.309694\n",
              "2      5.144416   8.660207\n",
              "3      6.928557   7.466080\n",
              "4      4.578308   8.440116\n",
              "...         ...        ...\n",
              "1951   9.288612  11.285175\n",
              "1952   9.361617  11.130410\n",
              "1953  14.931724  11.733963\n",
              "1954   8.369987  12.306924\n",
              "1955   8.346757  12.337290\n",
              "\n",
              "[1956 rows x 2 columns]"
            ]
          },
          "metadata": {
            "tags": []
          },
          "execution_count": 49
        }
      ]
    },
    {
      "cell_type": "code",
      "metadata": {
        "colab": {
          "base_uri": "https://localhost:8080/"
        },
        "id": "dUwBT_CyzwF2",
        "outputId": "d0d8efcb-9453-4749-b0a9-2678a1783b9d"
      },
      "source": [
        "trainVec, testVec, trainLabel, testLabel = train_test_split(dfUMAP, dfYTSpam['class'], test_size=.2, random_state=0)\n",
        "model=RandomForestClassifier(n_estimators=100, random_state=0)\n",
        "model.fit(trainVec, trainLabel)\n",
        "arrCVS = sklearn.model_selection.cross_val_score(model, trainVec, trainLabel, cv=5)\n",
        "print(\"Accuracies - Training: \"+str(round(model.score(trainVec, trainLabel), 4))  \\\n",
        "         + \"\\tTesting: \"+str(round(model.score(testVec, testLabel),4)) + \\\n",
        "         \"\\t\\t5-fold KCV: \"+str(round(np.mean(arrCVS), 4)))\n"
      ],
      "execution_count": null,
      "outputs": [
        {
          "output_type": "stream",
          "text": [
            "Accuracies - Training: 1.0\tTesting: 0.8903\t\t5-fold KCV: 0.8855\n"
          ],
          "name": "stdout"
        }
      ]
    },
    {
      "cell_type": "markdown",
      "metadata": {
        "id": "Cv4ZK8MW4A3G"
      },
      "source": [
        "K means clustering"
      ]
    },
    {
      "cell_type": "code",
      "metadata": {
        "id": "fXryfqFw4NY2"
      },
      "source": [
        "CntVec = CountVectorizer(binary=False, min_df=0.0, max_df=1.0)   \n",
        "totalVec = CntVec.fit_transform(dfYTSpam['preprocessed_content']) "
      ],
      "execution_count": null,
      "outputs": []
    },
    {
      "cell_type": "code",
      "metadata": {
        "colab": {
          "base_uri": "https://localhost:8080/"
        },
        "id": "XFmajWZMvbq0",
        "outputId": "070458d8-c99d-4a4e-98b6-876d6beb44c8"
      },
      "source": [
        "from sklearn.cluster import KMeans\n",
        "km=KMeans(n_clusters=10, random_state=0).fit(totalVec)\n",
        "\n",
        "from collections import Counter\n",
        "Counter(km.labels_)\n"
      ],
      "execution_count": null,
      "outputs": [
        {
          "output_type": "execute_result",
          "data": {
            "text/plain": [
              "Counter({0: 2, 1: 26, 2: 8, 3: 104, 4: 388, 5: 10, 6: 3, 7: 1413, 8: 1, 9: 1})"
            ]
          },
          "metadata": {
            "tags": []
          },
          "execution_count": 55
        }
      ]
    },
    {
      "cell_type": "code",
      "metadata": {
        "id": "9k6Mzk5IuhQ0",
        "colab": {
          "base_uri": "https://localhost:8080/"
        },
        "outputId": "64e1892c-61d0-432a-90ed-52dd9d2b32f2"
      },
      "source": [
        "for label in Counter(km.labels_).keys():\n",
        "  dfLabel=dfYTSpam[km.labels_ == label]\n",
        "  print(\"Label \"+str(label)+\": \"+str(Counter(dfLabel['class'])))"
      ],
      "execution_count": null,
      "outputs": [
        {
          "output_type": "stream",
          "text": [
            "Label 4: Counter({True: 376, False: 12})\n",
            "Label 7: Counter({False: 931, True: 482})\n",
            "Label 3: Counter({True: 98, False: 6})\n",
            "Label 9: Counter({True: 1})\n",
            "Label 8: Counter({True: 1})\n",
            "Label 5: Counter({True: 8, False: 2})\n",
            "Label 2: Counter({True: 8})\n",
            "Label 1: Counter({True: 26})\n",
            "Label 0: Counter({True: 2})\n",
            "Label 6: Counter({True: 3})\n"
          ],
          "name": "stdout"
        }
      ]
    }
  ]
}